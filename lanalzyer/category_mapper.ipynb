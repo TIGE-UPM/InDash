{
 "cells": [
  {
   "cell_type": "code",
   "execution_count": 20,
   "metadata": {},
   "outputs": [],
   "source": [
    "import pickle\n",
    "import pandas as pd\n",
    "import matplotlib.pyplot as plt"
   ]
  },
  {
   "cell_type": "markdown",
   "metadata": {},
   "source": [
    "## Load data sources"
   ]
  },
  {
   "cell_type": "code",
   "execution_count": 54,
   "metadata": {},
   "outputs": [
    {
     "data": {
      "text/html": [
       "<div>\n",
       "<style scoped>\n",
       "    .dataframe tbody tr th:only-of-type {\n",
       "        vertical-align: middle;\n",
       "    }\n",
       "\n",
       "    .dataframe tbody tr th {\n",
       "        vertical-align: top;\n",
       "    }\n",
       "\n",
       "    .dataframe thead th {\n",
       "        text-align: right;\n",
       "    }\n",
       "</style>\n",
       "<table border=\"1\" class=\"dataframe\">\n",
       "  <thead>\n",
       "    <tr style=\"text-align: right;\">\n",
       "      <th></th>\n",
       "      <th>eventname</th>\n",
       "      <th>activepassive</th>\n",
       "      <th>useragentbased</th>\n",
       "    </tr>\n",
       "  </thead>\n",
       "  <tbody>\n",
       "    <tr>\n",
       "      <th>0</th>\n",
       "      <td>Badge archived\\n\\core\\event\\badge_archived</td>\n",
       "      <td>22 passive</td>\n",
       "      <td>4 Student-System</td>\n",
       "    </tr>\n",
       "    <tr>\n",
       "      <th>1</th>\n",
       "      <td>Badge awarded\\n\\core\\event\\badge_awarded</td>\n",
       "      <td>22 passive</td>\n",
       "      <td>6 Course Relevant Actions</td>\n",
       "    </tr>\n",
       "    <tr>\n",
       "      <th>2</th>\n",
       "      <td>Badge created\\n\\core\\event\\badge_created</td>\n",
       "      <td>NaN</td>\n",
       "      <td>5 Others</td>\n",
       "    </tr>\n",
       "  </tbody>\n",
       "</table>\n",
       "</div>"
      ],
      "text/plain": [
       "                                    eventname activepassive  \\\n",
       "0  Badge archived\\n\\core\\event\\badge_archived    22 passive   \n",
       "1    Badge awarded\\n\\core\\event\\badge_awarded    22 passive   \n",
       "2    Badge created\\n\\core\\event\\badge_created           NaN   \n",
       "\n",
       "              useragentbased  \n",
       "0           4 Student-System  \n",
       "1  6 Course Relevant Actions  \n",
       "2                   5 Others  "
      ]
     },
     "execution_count": 54,
     "metadata": {},
     "output_type": "execute_result"
    }
   ],
   "source": [
    "# load the list which assigns events to categories\n",
    "filename_event_list = \"moodle_default_events_list.xlsx\"\n",
    "event_list = pd.read_excel(filename_event_list, header=7)\n",
    "event_list = event_list[[\"Event Name\", \"Active/Passive\", \"User-Agent-Based\"]]\n",
    "event_list = event_list.rename(columns = {\"Event Name\":\"eventname\", \"Active/Passive\":\"activepassive\", \"User-Agent-Based\":\"useragentbased\"})\n",
    "event_list[:3]"
   ]
  },
  {
   "cell_type": "code",
   "execution_count": 8,
   "metadata": {},
   "outputs": [
    {
     "data": {
      "text/html": [
       "<div>\n",
       "<style scoped>\n",
       "    .dataframe tbody tr th:only-of-type {\n",
       "        vertical-align: middle;\n",
       "    }\n",
       "\n",
       "    .dataframe tbody tr th {\n",
       "        vertical-align: top;\n",
       "    }\n",
       "\n",
       "    .dataframe thead th {\n",
       "        text-align: right;\n",
       "    }\n",
       "</style>\n",
       "<table border=\"1\" class=\"dataframe\">\n",
       "  <thead>\n",
       "    <tr style=\"text-align: right;\">\n",
       "      <th></th>\n",
       "      <th>action</th>\n",
       "      <th>target</th>\n",
       "      <th>crud</th>\n",
       "      <th>contextlevel</th>\n",
       "      <th>edulevel</th>\n",
       "      <th>eventname</th>\n",
       "      <th>userid</th>\n",
       "      <th>role</th>\n",
       "      <th>relateduserid</th>\n",
       "      <th>courseid</th>\n",
       "      <th>timecreated</th>\n",
       "    </tr>\n",
       "  </thead>\n",
       "  <tbody>\n",
       "    <tr>\n",
       "      <th>0</th>\n",
       "      <td>viewed</td>\n",
       "      <td>course</td>\n",
       "      <td>r</td>\n",
       "      <td>50</td>\n",
       "      <td>2</td>\n",
       "      <td>\\core\\event\\course_viewed</td>\n",
       "      <td>13</td>\n",
       "      <td>norole</td>\n",
       "      <td>NaN</td>\n",
       "      <td>3</td>\n",
       "      <td>1598956500</td>\n",
       "    </tr>\n",
       "    <tr>\n",
       "      <th>1</th>\n",
       "      <td>viewed</td>\n",
       "      <td>user_list</td>\n",
       "      <td>r</td>\n",
       "      <td>50</td>\n",
       "      <td>0</td>\n",
       "      <td>\\core\\event\\user_list_viewed</td>\n",
       "      <td>13</td>\n",
       "      <td>norole</td>\n",
       "      <td>NaN</td>\n",
       "      <td>3</td>\n",
       "      <td>1598956507</td>\n",
       "    </tr>\n",
       "    <tr>\n",
       "      <th>2</th>\n",
       "      <td>viewed</td>\n",
       "      <td>user_list</td>\n",
       "      <td>r</td>\n",
       "      <td>50</td>\n",
       "      <td>0</td>\n",
       "      <td>\\core\\event\\user_list_viewed</td>\n",
       "      <td>13</td>\n",
       "      <td>norole</td>\n",
       "      <td>NaN</td>\n",
       "      <td>3</td>\n",
       "      <td>1598956516</td>\n",
       "    </tr>\n",
       "  </tbody>\n",
       "</table>\n",
       "</div>"
      ],
      "text/plain": [
       "   action     target crud  contextlevel  edulevel  \\\n",
       "0  viewed     course    r            50         2   \n",
       "1  viewed  user_list    r            50         0   \n",
       "2  viewed  user_list    r            50         0   \n",
       "\n",
       "                      eventname  userid    role  relateduserid  courseid  \\\n",
       "0     \\core\\event\\course_viewed      13  norole            NaN         3   \n",
       "1  \\core\\event\\user_list_viewed      13  norole            NaN         3   \n",
       "2  \\core\\event\\user_list_viewed      13  norole            NaN         3   \n",
       "\n",
       "   timecreated  \n",
       "0   1598956500  \n",
       "1   1598956507  \n",
       "2   1598956516  "
      ]
     },
     "execution_count": 8,
     "metadata": {},
     "output_type": "execute_result"
    }
   ],
   "source": [
    "# load the moodle course log\n",
    "filename_course_log = 'course_log.pkl'\n",
    "course_log_list = pd.read_pickle(filename_course_log)\n",
    "course_log = pd.DataFrame(course_log_list)\n",
    "course_log[:3]"
   ]
  },
  {
   "cell_type": "markdown",
   "metadata": {},
   "source": [
    "## Start data handling"
   ]
  },
  {
   "cell_type": "code",
   "execution_count": 45,
   "metadata": {},
   "outputs": [
    {
     "data": {
      "text/html": [
       "<div>\n",
       "<style scoped>\n",
       "    .dataframe tbody tr th:only-of-type {\n",
       "        vertical-align: middle;\n",
       "    }\n",
       "\n",
       "    .dataframe tbody tr th {\n",
       "        vertical-align: top;\n",
       "    }\n",
       "\n",
       "    .dataframe thead th {\n",
       "        text-align: right;\n",
       "    }\n",
       "</style>\n",
       "<table border=\"1\" class=\"dataframe\">\n",
       "  <thead>\n",
       "    <tr style=\"text-align: right;\">\n",
       "      <th></th>\n",
       "      <th>eventname</th>\n",
       "      <th>count</th>\n",
       "    </tr>\n",
       "  </thead>\n",
       "  <tbody>\n",
       "    <tr>\n",
       "      <th>0</th>\n",
       "      <td>\\assignsubmission_file\\event\\assessable_uploaded</td>\n",
       "      <td>33</td>\n",
       "    </tr>\n",
       "    <tr>\n",
       "      <th>1</th>\n",
       "      <td>\\assignsubmission_file\\event\\submission_created</td>\n",
       "      <td>29</td>\n",
       "    </tr>\n",
       "    <tr>\n",
       "      <th>2</th>\n",
       "      <td>\\assignsubmission_file\\event\\submission_updated</td>\n",
       "      <td>4</td>\n",
       "    </tr>\n",
       "    <tr>\n",
       "      <th>3</th>\n",
       "      <td>\\assignsubmission_onlinetext\\event\\assessable_...</td>\n",
       "      <td>47</td>\n",
       "    </tr>\n",
       "    <tr>\n",
       "      <th>4</th>\n",
       "      <td>\\assignsubmission_onlinetext\\event\\submission_...</td>\n",
       "      <td>41</td>\n",
       "    </tr>\n",
       "    <tr>\n",
       "      <th>...</th>\n",
       "      <td>...</td>\n",
       "      <td>...</td>\n",
       "    </tr>\n",
       "    <tr>\n",
       "      <th>67</th>\n",
       "      <td>\\mod_workshop\\event\\submission_reassessed</td>\n",
       "      <td>108</td>\n",
       "    </tr>\n",
       "    <tr>\n",
       "      <th>68</th>\n",
       "      <td>\\mod_workshop\\event\\submission_updated</td>\n",
       "      <td>82</td>\n",
       "    </tr>\n",
       "    <tr>\n",
       "      <th>69</th>\n",
       "      <td>\\mod_workshop\\event\\submission_viewed</td>\n",
       "      <td>559</td>\n",
       "    </tr>\n",
       "    <tr>\n",
       "      <th>70</th>\n",
       "      <td>\\tool_recyclebin\\event\\course_bin_item_created</td>\n",
       "      <td>49</td>\n",
       "    </tr>\n",
       "    <tr>\n",
       "      <th>71</th>\n",
       "      <td>\\tool_recyclebin\\event\\course_bin_item_deleted</td>\n",
       "      <td>49</td>\n",
       "    </tr>\n",
       "  </tbody>\n",
       "</table>\n",
       "<p>72 rows × 2 columns</p>\n",
       "</div>"
      ],
      "text/plain": [
       "                                            eventname  count\n",
       "0    \\assignsubmission_file\\event\\assessable_uploaded     33\n",
       "1     \\assignsubmission_file\\event\\submission_created     29\n",
       "2     \\assignsubmission_file\\event\\submission_updated      4\n",
       "3   \\assignsubmission_onlinetext\\event\\assessable_...     47\n",
       "4   \\assignsubmission_onlinetext\\event\\submission_...     41\n",
       "..                                                ...    ...\n",
       "67          \\mod_workshop\\event\\submission_reassessed    108\n",
       "68             \\mod_workshop\\event\\submission_updated     82\n",
       "69              \\mod_workshop\\event\\submission_viewed    559\n",
       "70     \\tool_recyclebin\\event\\course_bin_item_created     49\n",
       "71     \\tool_recyclebin\\event\\course_bin_item_deleted     49\n",
       "\n",
       "[72 rows x 2 columns]"
      ]
     },
     "execution_count": 45,
     "metadata": {},
     "output_type": "execute_result"
    }
   ],
   "source": [
    "# count the occurrence of each event type\n",
    "event_frequency = course_log.groupby([\"eventname\"]).count()\n",
    "event_frequency = event_frequency.drop(labels=[c for c in event_frequency.columns[1:]], axis=\"columns\")\n",
    "event_frequency = event_frequency.rename(columns = {\"action\":\"count\"})\n",
    "event_frequency = event_frequency.reset_index()\n",
    "event_frequency"
   ]
  },
  {
   "cell_type": "code",
   "execution_count": 72,
   "metadata": {},
   "outputs": [
    {
     "data": {
      "text/html": [
       "<div>\n",
       "<style scoped>\n",
       "    .dataframe tbody tr th:only-of-type {\n",
       "        vertical-align: middle;\n",
       "    }\n",
       "\n",
       "    .dataframe tbody tr th {\n",
       "        vertical-align: top;\n",
       "    }\n",
       "\n",
       "    .dataframe thead th {\n",
       "        text-align: right;\n",
       "    }\n",
       "</style>\n",
       "<table border=\"1\" class=\"dataframe\">\n",
       "  <thead>\n",
       "    <tr style=\"text-align: right;\">\n",
       "      <th></th>\n",
       "      <th>eventname</th>\n",
       "      <th>count</th>\n",
       "      <th>activepassive</th>\n",
       "      <th>useragentbased</th>\n",
       "    </tr>\n",
       "  </thead>\n",
       "  <tbody>\n",
       "    <tr>\n",
       "      <th>0</th>\n",
       "      <td>\\assignsubmission_file\\event\\assessable_uploaded</td>\n",
       "      <td>33</td>\n",
       "      <td>22 passive</td>\n",
       "      <td>4 Student-System</td>\n",
       "    </tr>\n",
       "    <tr>\n",
       "      <th>1</th>\n",
       "      <td>\\assignsubmission_file\\event\\submission_created</td>\n",
       "      <td>29</td>\n",
       "      <td>22 passive</td>\n",
       "      <td>6 Course Relevant Actions</td>\n",
       "    </tr>\n",
       "    <tr>\n",
       "      <th>2</th>\n",
       "      <td>\\assignsubmission_file\\event\\submission_updated</td>\n",
       "      <td>4</td>\n",
       "      <td>NaN</td>\n",
       "      <td>5 Others</td>\n",
       "    </tr>\n",
       "    <tr>\n",
       "      <th>3</th>\n",
       "      <td>\\assignsubmission_onlinetext\\event\\assessable_...</td>\n",
       "      <td>47</td>\n",
       "      <td>NaN</td>\n",
       "      <td>5 Others</td>\n",
       "    </tr>\n",
       "    <tr>\n",
       "      <th>4</th>\n",
       "      <td>\\assignsubmission_onlinetext\\event\\submission_...</td>\n",
       "      <td>41</td>\n",
       "      <td>NaN</td>\n",
       "      <td>5 Others</td>\n",
       "    </tr>\n",
       "    <tr>\n",
       "      <th>...</th>\n",
       "      <td>...</td>\n",
       "      <td>...</td>\n",
       "      <td>...</td>\n",
       "      <td>...</td>\n",
       "    </tr>\n",
       "    <tr>\n",
       "      <th>67</th>\n",
       "      <td>\\mod_workshop\\event\\submission_reassessed</td>\n",
       "      <td>108</td>\n",
       "      <td>22 passive</td>\n",
       "      <td>2 Student-Teacher</td>\n",
       "    </tr>\n",
       "    <tr>\n",
       "      <th>68</th>\n",
       "      <td>\\mod_workshop\\event\\submission_updated</td>\n",
       "      <td>82</td>\n",
       "      <td>22 passive</td>\n",
       "      <td>2 Student-Teacher</td>\n",
       "    </tr>\n",
       "    <tr>\n",
       "      <th>69</th>\n",
       "      <td>\\mod_workshop\\event\\submission_viewed</td>\n",
       "      <td>559</td>\n",
       "      <td>22 passive</td>\n",
       "      <td>2 Student-Teacher</td>\n",
       "    </tr>\n",
       "    <tr>\n",
       "      <th>70</th>\n",
       "      <td>\\tool_recyclebin\\event\\course_bin_item_created</td>\n",
       "      <td>49</td>\n",
       "      <td>11 active</td>\n",
       "      <td>6 Course Relevant Actions</td>\n",
       "    </tr>\n",
       "    <tr>\n",
       "      <th>71</th>\n",
       "      <td>\\tool_recyclebin\\event\\course_bin_item_deleted</td>\n",
       "      <td>49</td>\n",
       "      <td>11 active</td>\n",
       "      <td>6 Course Relevant Actions</td>\n",
       "    </tr>\n",
       "  </tbody>\n",
       "</table>\n",
       "<p>72 rows × 4 columns</p>\n",
       "</div>"
      ],
      "text/plain": [
       "                                            eventname  count activepassive  \\\n",
       "0    \\assignsubmission_file\\event\\assessable_uploaded     33    22 passive   \n",
       "1     \\assignsubmission_file\\event\\submission_created     29    22 passive   \n",
       "2     \\assignsubmission_file\\event\\submission_updated      4           NaN   \n",
       "3   \\assignsubmission_onlinetext\\event\\assessable_...     47           NaN   \n",
       "4   \\assignsubmission_onlinetext\\event\\submission_...     41           NaN   \n",
       "..                                                ...    ...           ...   \n",
       "67          \\mod_workshop\\event\\submission_reassessed    108    22 passive   \n",
       "68             \\mod_workshop\\event\\submission_updated     82    22 passive   \n",
       "69              \\mod_workshop\\event\\submission_viewed    559    22 passive   \n",
       "70     \\tool_recyclebin\\event\\course_bin_item_created     49     11 active   \n",
       "71     \\tool_recyclebin\\event\\course_bin_item_deleted     49     11 active   \n",
       "\n",
       "               useragentbased  \n",
       "0            4 Student-System  \n",
       "1   6 Course Relevant Actions  \n",
       "2                    5 Others  \n",
       "3                    5 Others  \n",
       "4                    5 Others  \n",
       "..                        ...  \n",
       "67          2 Student-Teacher  \n",
       "68          2 Student-Teacher  \n",
       "69          2 Student-Teacher  \n",
       "70  6 Course Relevant Actions  \n",
       "71  6 Course Relevant Actions  \n",
       "\n",
       "[72 rows x 4 columns]"
      ]
     },
     "execution_count": 72,
     "metadata": {},
     "output_type": "execute_result"
    }
   ],
   "source": [
    "# map events with interaction categories\n",
    "overview = event_frequency.join(event_list, rsuffix=\"_ef\").drop(\"eventname_ef\", axis='columns')\n",
    "overview"
   ]
  },
  {
   "cell_type": "code",
   "execution_count": 86,
   "metadata": {},
   "outputs": [
    {
     "data": {
      "text/plain": [
       "<BarContainer object of 5 artists>"
      ]
     },
     "execution_count": 86,
     "metadata": {},
     "output_type": "execute_result"
    },
    {
     "data": {
      "image/png": "[encoded data removed]",
      "text/plain": [
       "<Figure size 720x360 with 1 Axes>"
      ]
     },
     "metadata": {
      "needs_background": "light"
     },
     "output_type": "display_data"
    }
   ],
   "source": [
    "user_agent_based = overview.groupby(\"useragentbased\").sum()[\"count\"]\n",
    "plt.figure(figsize=(10,5))\n",
    "plt.bar(user_agent_based.index, user_agent_based)"
   ]
  },
  {
   "cell_type": "code",
   "execution_count": 88,
   "metadata": {},
   "outputs": [
    {
     "data": {
      "text/plain": [
       "<BarContainer object of 2 artists>"
      ]
     },
     "execution_count": 88,
     "metadata": {},
     "output_type": "execute_result"
    },
    {
     "data": {
      "image/png": "[encoded data removed]",
      "text/plain": [
       "<Figure size 432x288 with 1 Axes>"
      ]
     },
     "metadata": {
      "needs_background": "light"
     },
     "output_type": "display_data"
    }
   ],
   "source": [
    "active_passive = overview.groupby(\"activepassive\").sum()[\"count\"]\n",
    "plt.bar(active_passive.index, active_passive)"
   ]
  }
 ],
 "metadata": {
  "interpreter": {
   "hash": "31f2aee4e71d21fbe5cf8b01ff0e069b9275f58929596ceb00d14d90e3e16cd6"
  },
  "kernelspec": {
   "display_name": "Python 3.8.10 64-bit",
   "language": "python",
   "name": "python3"
  },
  "language_info": {
   "codemirror_mode": {
    "name": "ipython",
    "version": 3
   },
   "file_extension": ".py",
   "mimetype": "text/x-python",
   "name": "python",
   "nbconvert_exporter": "python",
   "pygments_lexer": "ipython3",
   "version": "3.8.10"
  },
  "orig_nbformat": 4
 },
 "nbformat": 4,
 "nbformat_minor": 2
}
